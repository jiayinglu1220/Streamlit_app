{
 "cells": [
  {
   "cell_type": "code",
   "execution_count": 1,
   "id": "d3b21e7a",
   "metadata": {},
   "outputs": [],
   "source": [
    "import streamlit as st\n",
    "import pandas as pd"
   ]
  },
  {
   "cell_type": "code",
   "execution_count": 2,
   "id": "33a5924c",
   "metadata": {},
   "outputs": [],
   "source": [
    "df = pd.read_csv('car_data.csv')"
   ]
  },
  {
   "cell_type": "code",
   "execution_count": 3,
   "id": "81364de7",
   "metadata": {},
   "outputs": [
    {
     "name": "stderr",
     "output_type": "stream",
     "text": [
      "2024-04-10 12:59:25.134 \n",
      "  \u001b[33m\u001b[1mWarning:\u001b[0m to view this Streamlit app on a browser, run it with the following\n",
      "  command:\n",
      "\n",
      "    streamlit run /Users/apple/anaconda3/lib/python3.11/site-packages/ipykernel_launcher.py [ARGUMENTS]\n"
     ]
    }
   ],
   "source": [
    "car_name = st.sidebar.text_input('Car Name')"
   ]
  },
  {
   "cell_type": "code",
   "execution_count": 4,
   "id": "b8c2328d",
   "metadata": {},
   "outputs": [],
   "source": [
    "transmission = st.sidebar.multiselect('Transmission', ['Automatic', 'Manual'], default = ['Automatic', 'Manual'])"
   ]
  },
  {
   "cell_type": "code",
   "execution_count": 5,
   "id": "2009cddf",
   "metadata": {},
   "outputs": [],
   "source": [
    "selling_price = st.sidebar.slider('Selling Price Range', 0, 20, (0, 20))"
   ]
  },
  {
   "cell_type": "code",
   "execution_count": 6,
   "id": "f93a639f",
   "metadata": {},
   "outputs": [],
   "source": [
    "year = st.sidebar.slider('Year Range', 2000, 2024, (2000, 2024))"
   ]
  },
  {
   "cell_type": "code",
   "execution_count": 7,
   "id": "7930cbb2",
   "metadata": {},
   "outputs": [
    {
     "name": "stderr",
     "output_type": "stream",
     "text": [
      "/Users/apple/anaconda3/lib/python3.11/site-packages/pyarrow/pandas_compat.py:373: FutureWarning: is_sparse is deprecated and will be removed in a future version. Check `isinstance(dtype, pd.SparseDtype)` instead.\n",
      "  if _pandas_api.is_sparse(col):\n"
     ]
    }
   ],
   "source": [
    "submit = st.sidebar.button('Submit')\n",
    "if submit:\n",
    "    if car_name:\n",
    "        df = df[df['Car_Name'].str.contains(car_name, case=False)]\n",
    "    if transmission_type:\n",
    "        df = df[df['Transmission'].isin(transmission_type)]\n",
    "    df = df[df['Selling_Price'].between(*selling_price_range)]\n",
    "    df = df[df['Year'].between(*year_range)]\n",
    "st.write(df)"
   ]
  },
  {
   "cell_type": "code",
   "execution_count": null,
   "id": "a2b910b6",
   "metadata": {},
   "outputs": [],
   "source": []
  }
 ],
 "metadata": {
  "kernelspec": {
   "display_name": "Python 3 (ipykernel)",
   "language": "python",
   "name": "python3"
  },
  "language_info": {
   "codemirror_mode": {
    "name": "ipython",
    "version": 3
   },
   "file_extension": ".py",
   "mimetype": "text/x-python",
   "name": "python",
   "nbconvert_exporter": "python",
   "pygments_lexer": "ipython3",
   "version": "3.11.5"
  }
 },
 "nbformat": 4,
 "nbformat_minor": 5
}
